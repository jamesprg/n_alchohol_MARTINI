{
 "cells": [
  {
   "cell_type": "code",
   "execution_count": 1,
   "metadata": {},
   "outputs": [
    {
     "name": "stdout",
     "output_type": "stream",
     "text": [
      "Populating the interactive namespace from numpy and matplotlib\n"
     ]
    }
   ],
   "source": [
    "%pylab inline\n",
    "import numpy as np\n",
    "import matplotlib.pyplot as plt\n",
    "file_home='/Users/Vongolajames/Google Drive File Stream/My Drive/alcohol_martini_paper/pics'"
   ]
  },
  {
   "cell_type": "markdown",
   "metadata": {},
   "source": [
    "## 10% Octanol Systems"
   ]
  },
  {
   "cell_type": "code",
   "execution_count": 2,
   "metadata": {},
   "outputs": [
    {
     "name": "stdout",
     "output_type": "stream",
     "text": [
      "/Users/Vongolajames/Downloads/oco2\n"
     ]
    }
   ],
   "source": [
    "cd oco2/"
   ]
  },
  {
   "cell_type": "code",
   "execution_count": 3,
   "metadata": {},
   "outputs": [],
   "source": [
    "dppc5 = np.loadtxt('og-10oco-dppc.xvg',dtype = float, skiprows=23)\n",
    "dipc5 = np.loadtxt('og-10oco-dipc.xvg',dtype = float, skiprows=23)\n",
    "chol5 = np.loadtxt('og-10oco-chol.xvg',dtype = float, skiprows=23)\n",
    "alc5 = np.loadtxt('og-10oco-alc.xvg',dtype = float, skiprows=23)\n",
    "\n",
    "dppc6 = np.loadtxt('rand1-10oco-dppc.xvg',dtype = float, skiprows=23)\n",
    "dipc6 = np.loadtxt('rand1-10oco-dipc.xvg',dtype = float, skiprows=23)\n",
    "chol6 = np.loadtxt('rand1-10oco-chol.xvg',dtype = float, skiprows=23)\n",
    "alc6 = np.loadtxt('rand-10oco-alc.xvg',dtype = float, skiprows=23)\n",
    "\n",
    "\n",
    "dppc7 = np.loadtxt('rand2-10oco-dppc.xvg',dtype = float, skiprows=23)\n",
    "dipc7 = np.loadtxt('rand2-10oco-dipc.xvg',dtype = float, skiprows=23)\n",
    "chol7 = np.loadtxt('rand2-10oco-chol.xvg',dtype = float, skiprows=23)\n",
    "alc7 = np.loadtxt('rand2-10oco-alc.xvg',dtype = float, skiprows=23)\n",
    "\n",
    "dppc8 = np.loadtxt('rand3-10oco-dppc.xvg',dtype = float, skiprows=23)\n",
    "dipc8 = np.loadtxt('rand3-10oco-dipc.xvg',dtype = float, skiprows=23)\n",
    "chol8 = np.loadtxt('rand3-10oco-chol.xvg',dtype = float, skiprows=23)\n",
    "alc8 = np.loadtxt('rand3-10oco-alc.xvg',dtype = float, skiprows=23)\n",
    "\n",
    "\n",
    "dppc9 = np.loadtxt('rand4-10oco-dppc.xvg',dtype = float, skiprows=23)\n",
    "dipc9 = np.loadtxt('rand4-10oco-dipc.xvg',dtype = float, skiprows=23)\n",
    "chol9 = np.loadtxt('rand4-10oco-chol.xvg',dtype = float, skiprows=23)\n",
    "alc9 = np.loadtxt('rand4-10oco-alc.xvg',dtype = float, skiprows=23)\n"
   ]
  },
  {
   "cell_type": "code",
   "execution_count": 4,
   "metadata": {},
   "outputs": [],
   "source": [
    "bla5=np.column_stack((dppc5[:,1],dipc5[:,1],chol5[:,1]))\n",
    "bla5[:,0]=bla5[:,0]/12\n",
    "bla5[:,1]=bla5[:,1]/12\n",
    "bla5[:,2]=bla5[:,2]/8\n",
    "\n",
    "bla6=np.column_stack((dppc6[:,1],dipc6[:,1],chol6[:,1]))\n",
    "bla6[:,0]=bla6[:,0]/12\n",
    "bla6[:,1]=bla6[:,1]/12\n",
    "bla6[:,2]=bla6[:,2]/8\n",
    "\n",
    "bla7=np.column_stack((dppc7[:,1],dipc7[:,1],chol7[:,1]))\n",
    "bla7[:,0]=bla7[:,0]/12\n",
    "bla7[:,1]=bla7[:,1]/12\n",
    "bla7[:,2]=bla7[:,2]/8\n",
    "\n",
    "bla8=np.column_stack((dppc8[:,1],dipc8[:,1],chol8[:,1]))\n",
    "bla8[:,0]=bla8[:,0]/12\n",
    "bla8[:,1]=bla8[:,1]/12\n",
    "bla8[:,2]=bla8[:,2]/8\n",
    "\n",
    "bla9=np.column_stack((dppc9[:,1],dipc9[:,1],chol9[:,1]))\n",
    "bla9[:,0]=bla9[:,0]/12\n",
    "bla9[:,1]=bla9[:,1]/12\n",
    "bla9[:,2]=bla9[:,2]/8\n",
    "\n",
    "\n",
    "dppc5[:,1]=bla5[:,0].astype(float)/bla5.sum(axis=1)\n",
    "dipc5[:,1]=bla5[:,1].astype(float)/bla5.sum(axis=1)\n",
    "chol5[:,1]=bla5[:,2].astype(float)/bla5.sum(axis=1)\n",
    "\n",
    "dppc6[:,1]=bla6[:,0].astype(float)/bla6.sum(axis=1)\n",
    "dipc6[:,1]=bla6[:,1].astype(float)/bla6.sum(axis=1)\n",
    "chol6[:,1]=bla6[:,2].astype(float)/bla6.sum(axis=1)\n",
    "\n",
    "dppc7[:,1]=bla7[:,0].astype(float)/bla7.sum(axis=1)\n",
    "dipc7[:,1]=bla7[:,1].astype(float)/bla7.sum(axis=1)\n",
    "chol7[:,1]=bla7[:,2].astype(float)/bla7.sum(axis=1)\n",
    "\n",
    "dppc8[:,1]=bla8[:,0].astype(float)/bla8.sum(axis=1)\n",
    "dipc8[:,1]=bla8[:,1].astype(float)/bla8.sum(axis=1)\n",
    "chol8[:,1]=bla8[:,2].astype(float)/bla8.sum(axis=1)\n",
    "\n",
    "dppc9[:,1]=bla9[:,0].astype(float)/bla9.sum(axis=1)\n",
    "dipc9[:,1]=bla9[:,1].astype(float)/bla9.sum(axis=1)\n",
    "chol9[:,1]=bla9[:,2].astype(float)/bla9.sum(axis=1)"
   ]
  },
  {
   "cell_type": "code",
   "execution_count": 5,
   "metadata": {},
   "outputs": [],
   "source": [
    "a=0.4\n",
    "roll5=-1\n",
    "roll6=9\n",
    "roll7=15\n",
    "roll8=27\n",
    "roll9=27"
   ]
  },
  {
   "cell_type": "code",
   "execution_count": 53,
   "metadata": {},
   "outputs": [],
   "source": [
    "#get an average using np.roll\n",
    "dppc5_c=np.roll(dppc5[:,1],roll5)\n",
    "dipc5_c=np.roll(dipc5[:,1],roll5)\n",
    "chol5_c=np.roll(chol5[:,1],roll5)\n",
    "\n",
    "dppc6_c=np.roll(dppc6[:,1],roll6)\n",
    "dipc6_c=np.roll(dipc6[:,1],roll6)\n",
    "chol6_c=np.roll(chol6[:,1],roll6)\n",
    "\n",
    "dppc7_c=np.roll(dppc7[:,1],roll7)\n",
    "dipc7_c=np.roll(dipc7[:,1],roll7)\n",
    "chol7_c=np.roll(chol7[:,1],roll7)\n",
    "\n",
    "dppc8_c=np.roll(dppc8[:,1],roll8)\n",
    "dipc8_c=np.roll(dipc8[:,1],roll8)\n",
    "chol8_c=np.roll(chol8[:,1],roll8)\n",
    "    \n",
    "dppc9_c=np.roll(dppc9[:,1],roll9)\n",
    "dipc9_c=np.roll(dipc9[:,1],roll9)\n",
    "chol9_c=np.roll(chol9[:,1],roll9)\n",
    "\n",
    "#average x axis to be shared\n",
    "xavg10=(dppc5[:,0]+dipc5[:,0]+chol5[:,0]+dipc6[:,0]+dppc6[:,0]+chol6[:,0]\n",
    "     +dipc7[:,0]+dppc7[:,0]+chol7[:,0])/9.0\n",
    "dppc_10_avg=[[]]\n",
    "dipc_10_avg=[[]]\n",
    "chol_10_avg=[[]]\n",
    "for n,i in enumerate(dppc5_c):\n",
    "    newrow = [mean((dppc5_c[n],dppc6_c[n],dppc7_c[n],dppc8_c[n],dppc9_c[n])),\n",
    "              np.std((dppc5_c[n],dppc6_c[n],dppc7_c[n],dppc8_c[n],dppc9_c[n]))/3]\n",
    "    if n == 0:\n",
    "        dppc_10_avg = newrow\n",
    "    else:\n",
    "        dppc_10_avg = numpy.vstack([dppc_10_avg, newrow])\n",
    "    newrow = [mean((dipc5_c[n],dipc6_c[n],dipc7_c[n],dipc8_c[n],dipc9_c[n])),\n",
    "              np.std((dipc5_c[n],dipc6_c[n],dipc7_c[n],dipc8_c[n],dipc9_c[n]))/3]\n",
    "    if n == 0:\n",
    "        dipc_10_avg = newrow\n",
    "    else:\n",
    "        dipc_10_avg = numpy.vstack([dipc_10_avg, newrow])\n",
    "    newrow = [mean((chol5_c[n],chol6_c[n],chol7_c[n],chol8_c[n],chol9_c[n])),\n",
    "              np.std((chol5_c[n],chol6_c[n],chol7_c[n],chol8_c[n],chol9_c[n]))/3]\n",
    "    if n == 0:\n",
    "        chol_10_avg = newrow\n",
    "    else:\n",
    "        chol_10_avg = numpy.vstack([chol_10_avg, newrow])"
   ]
  },
  {
   "cell_type": "markdown",
   "metadata": {},
   "source": [
    "## 5% Octanol Systems"
   ]
  },
  {
   "cell_type": "code",
   "execution_count": 11,
   "metadata": {},
   "outputs": [
    {
     "name": "stdout",
     "output_type": "stream",
     "text": [
      "/Users/Vongolajames/Downloads/check\n"
     ]
    }
   ],
   "source": [
    "cd ../check/"
   ]
  },
  {
   "cell_type": "code",
   "execution_count": 12,
   "metadata": {},
   "outputs": [],
   "source": [
    "dppc_1 = np.loadtxt('og-5oco-dppc-redo.xvg',dtype = float, skiprows=23)\n",
    "dipc_1 = np.loadtxt('og-5oco-dipc-redo.xvg',dtype = float, skiprows=23)\n",
    "chol_1 = np.loadtxt('og-5oco-chol-redo.xvg',dtype = float, skiprows=23)\n",
    "alc_1= np.loadtxt('og-5oco-alc-redo.xvg',dtype = float, skiprows=23)\n",
    "\n",
    "dppc2 = np.loadtxt('rand2-5oco-dppc.xvg',dtype = float, skiprows=23)\n",
    "dipc2 = np.loadtxt('rand2-5oco-dipc.xvg',dtype = float, skiprows=23)\n",
    "chol2 = np.loadtxt('rand2-5oco-chol.xvg',dtype = float, skiprows=23)\n",
    "alc2 = np.loadtxt('rand2-5oco-alc.xvg',dtype = float, skiprows=23)\n",
    "\n",
    "dppc4 = np.loadtxt('rand4-5oco-dppc-redo.xvg',dtype = float, skiprows=23)\n",
    "dipc4 = np.loadtxt('rand4-5oco-dipc-redo.xvg',dtype = float, skiprows=23)\n",
    "chol4 = np.loadtxt('rand4-5oco-chol-redo.xvg',dtype = float, skiprows=23)\n",
    "alc4 = np.loadtxt('rand4-5oco-alc-redo.xvg',dtype = float, skiprows=23)\n",
    "\n",
    "bla_1=np.column_stack((dppc_1[:,1],dipc_1[:,1],chol_1[:,1]))\n",
    "bla2=np.column_stack((dppc2[:,1],dipc2[:,1],chol2[:,1]))\n",
    "bla4=np.column_stack((dppc4[:,1],dipc4[:,1],chol4[:,1]))\n",
    "\n",
    "bla_1[:,0]=bla_1[:,0]/12\n",
    "bla_1[:,1]=bla_1[:,1]/12\n",
    "bla_1[:,2]=bla_1[:,2]/8\n",
    "\n",
    "bla2[:,0]=bla2[:,0]/12\n",
    "bla2[:,1]=bla2[:,1]/12\n",
    "bla2[:,2]=bla2[:,2]/8\n",
    "\n",
    "bla4[:,0]=bla4[:,0]/12\n",
    "bla4[:,1]=bla4[:,1]/12\n",
    "bla4[:,2]=bla4[:,2]/8\n",
    "\n",
    "dppc_1[:,1]=bla_1[:,0].astype(float)/bla_1.sum(axis=1)\n",
    "dipc_1[:,1]=bla_1[:,1].astype(float)/bla_1.sum(axis=1)\n",
    "chol_1[:,1]=bla_1[:,2].astype(float)/bla_1.sum(axis=1)\n",
    "\n",
    "dppc2[:,1]=bla2[:,0].astype(float)/bla2.sum(axis=1)\n",
    "dipc2[:,1]=bla2[:,1].astype(float)/bla2.sum(axis=1)\n",
    "chol2[:,1]=bla2[:,2].astype(float)/bla2.sum(axis=1)\n",
    "\n",
    "dppc4[:,1]=bla4[:,0].astype(float)/bla4.sum(axis=1)\n",
    "dipc4[:,1]=bla4[:,1].astype(float)/bla4.sum(axis=1)\n",
    "chol4[:,1]=bla4[:,2].astype(float)/bla4.sum(axis=1)\n"
   ]
  },
  {
   "cell_type": "code",
   "execution_count": 13,
   "metadata": {},
   "outputs": [],
   "source": [
    "a=0.4\n",
    "roll1=-7\n",
    "roll2=-1\n",
    "roll3=10"
   ]
  },
  {
   "cell_type": "code",
   "execution_count": 54,
   "metadata": {},
   "outputs": [],
   "source": [
    "#get aligned using np.roll\n",
    "dppc2_c=np.roll(dppc2[:,1],roll2)\n",
    "dipc2_c=np.roll(dipc2[:,1],roll2)\n",
    "chol2_c=np.roll(chol2[:,1],roll2)\n",
    "\n",
    "dppc_1_c=np.roll(dppc_1[:,1],roll1)\n",
    "dipc_1_c=np.roll(dipc_1[:,1],roll1)\n",
    "chol_1_c=np.roll(chol_1[:,1],roll1)\n",
    "\n",
    "dppc3_c=np.roll(dppc4[:,1],roll3)\n",
    "dipc3_c=np.roll(dipc4[:,1],roll3)\n",
    "chol3_c=np.roll(chol4[:,1],roll3)\n",
    "\n",
    "#average x axis to be shared\n",
    "xavg=(dppc_1[:,0]+dipc_1[:,0]+chol_1[:,0]+dipc2[:,0]+dppc2[:,0]+chol2[:,0]\n",
    "     +dipc4[:,0]+dppc4[:,0]+chol4[:,0])/9.0\n",
    "#average together the runs!\n",
    "dppc_5_avg=[[]]\n",
    "dipc_5_avg=[[]]\n",
    "chol_5_avg=[[]]\n",
    "for n,i in enumerate(dppc2_c):\n",
    "    newrow = [mean((dppc_1_c[n],dppc2_c[n],dppc3_c[n])),\n",
    "              np.std((dppc_1_c[n],dppc2_c[n],dppc3_c[n]))/3]\n",
    "    if n == 0:\n",
    "        dppc_5_avg = newrow\n",
    "    else:\n",
    "        dppc_5_avg = numpy.vstack([dppc_5_avg, newrow])\n",
    "    newrow = [mean((dipc_1_c[n],dipc2_c[n],dipc3_c[n])),\n",
    "              np.std((dipc_1_c[n],dipc2_c[n],dipc3_c[n]))/3]\n",
    "    if n == 0:\n",
    "        dipc_5_avg = newrow\n",
    "    else:\n",
    "        dipc_5_avg = numpy.vstack([dipc_5_avg, newrow])\n",
    "    newrow = [mean((chol_1_c[n],chol2_c[n],chol3_c[n])),\n",
    "              np.std((chol_1_c[n],chol2_c[n],chol3_c[n]))/3]\n",
    "    if n == 0:\n",
    "        chol_5_avg = newrow\n",
    "    else:\n",
    "        chol_5_avg = numpy.vstack([chol_5_avg, newrow])\n"
   ]
  },
  {
   "cell_type": "markdown",
   "metadata": {},
   "source": [
    "## Control System"
   ]
  },
  {
   "cell_type": "code",
   "execution_count": 18,
   "metadata": {},
   "outputs": [
    {
     "name": "stdout",
     "output_type": "stream",
     "text": [
      "/Users/Vongolajames/Downloads/oco2\n"
     ]
    }
   ],
   "source": [
    "cd ../oco2/"
   ]
  },
  {
   "cell_type": "code",
   "execution_count": 19,
   "metadata": {},
   "outputs": [],
   "source": [
    "dpc = np.loadtxt('og-control-dppc.xvg',dtype = float, skiprows=23)\n",
    "dic = np.loadtxt('og-control-dipc.xvg',dtype = float, skiprows=23)\n",
    "chc = np.loadtxt('og-control-chol.xvg',dtype = float, skiprows=23)\n",
    "blac=np.column_stack((dpc[:,1],dic[:,1],chc[:,1]))\n",
    "\n",
    "blac[:,0]=blac[:,0]/12\n",
    "blac[:,1]=blac[:,1]/12\n",
    "blac[:,2]=blac[:,2]/8\n",
    "\n",
    "dpc[:,1]=blac[:,0].astype(float)/blac.sum(axis=1)\n",
    "dic[:,1]=blac[:,1].astype(float)/blac.sum(axis=1)\n",
    "chc[:,1]=blac[:,2].astype(float)/blac.sum(axis=1)\n",
    "\n",
    "dpc1 = np.loadtxt('rand1-control-dppc.xvg',dtype = float, skiprows=23)\n",
    "dic1 = np.loadtxt('rand1-control-dipc.xvg',dtype = float, skiprows=23)\n",
    "chc1 = np.loadtxt('rand1-control-chol.xvg',dtype = float, skiprows=23)\n",
    "blac1=np.column_stack((dpc1[:,1],dic1[:,1],chc1[:,1]))\n",
    "\n",
    "blac1[:,0]=blac1[:,0]/12\n",
    "blac1[:,1]=blac1[:,1]/12\n",
    "blac1[:,2]=blac1[:,2]/8\n",
    "\n",
    "dpc1[:,1]=blac1[:,0].astype(float)/blac1.sum(axis=1)\n",
    "dic1[:,1]=blac1[:,1].astype(float)/blac1.sum(axis=1)\n",
    "chc1[:,1]=blac1[:,2].astype(float)/blac1.sum(axis=1)\n",
    "\n",
    "dpc2 = np.loadtxt('rand3-control-dppc.xvg',dtype = float, skiprows=23)\n",
    "dic2 = np.loadtxt('rand3-control-dipc.xvg',dtype = float, skiprows=23)\n",
    "chc2 = np.loadtxt('rand3-control-chol.xvg',dtype = float, skiprows=23)\n",
    "blac2=np.column_stack((dpc2[:,1],dic2[:,1],chc2[:,1]))\n",
    "\n",
    "blac2[:,0]=blac2[:,0]/12\n",
    "blac2[:,1]=blac2[:,1]/12\n",
    "blac2[:,2]=blac2[:,2]/8\n",
    "\n",
    "dpc2[:,1]=blac2[:,0].astype(float)/blac2.sum(axis=1)\n",
    "dic2[:,1]=blac2[:,1].astype(float)/blac2.sum(axis=1)\n",
    "chc2[:,1]=blac2[:,2].astype(float)/blac2.sum(axis=1)\n",
    "\n",
    "dpc3 = np.loadtxt('rand4-control-dppc.xvg',dtype = float, skiprows=23)\n",
    "dic3 = np.loadtxt('rand4-control-dipc.xvg',dtype = float, skiprows=23)\n",
    "chc3 = np.loadtxt('rand4-control-chol.xvg',dtype = float, skiprows=23)\n",
    "blac3=np.column_stack((dpc3[:,1],dic3[:,1],chc3[:,1]))\n",
    "\n",
    "blac3[:,0]=blac3[:,0]/12\n",
    "blac3[:,1]=blac3[:,1]/12\n",
    "blac3[:,2]=blac3[:,2]/8\n",
    "\n",
    "dpc3[:,1]=blac3[:,0].astype(float)/blac3.sum(axis=1)\n",
    "dic3[:,1]=blac3[:,1].astype(float)/blac3.sum(axis=1)\n",
    "chc3[:,1]=blac3[:,2].astype(float)/blac3.sum(axis=1)\n",
    "\n",
    "a=0.4\n",
    "rol=-31\n",
    "rol1=4\n",
    "rol2=-13\n",
    "rol3=23"
   ]
  },
  {
   "cell_type": "code",
   "execution_count": 55,
   "metadata": {},
   "outputs": [],
   "source": [
    "#get an average using np.roll\n",
    "dpc_c=np.roll(dpc[:,1],rol)\n",
    "dic_c=np.roll(dic[:,1],rol)\n",
    "chc_c=np.roll(chc[:,1],rol)\n",
    "\n",
    "dpc1_c=np.roll(dpc1[:,1],rol1)\n",
    "dic1_c=np.roll(dic1[:,1],rol1)\n",
    "chc1_c=np.roll(chc1[:,1],rol1)\n",
    "\n",
    "dpc2_c=np.roll(dpc2[:,1],rol2)\n",
    "dic2_c=np.roll(dic2[:,1],rol2)\n",
    "chc2_c=np.roll(chc2[:,1],rol2)\n",
    "\n",
    "dpc3_c=np.roll(dpc3[:,1],rol3)\n",
    "dic3_c=np.roll(dic3[:,1],rol3)\n",
    "chc3_c=np.roll(chc3[:,1],rol3)\n",
    "\n",
    "#average together the three runs!\n",
    "dppc_control_avg=[[]]\n",
    "dipc_control_avg=[[]]\n",
    "chol_control_avg=[[]]\n",
    "for n,i in enumerate(dpc2_c):\n",
    "    newrow = [mean((dpc_c[n],dpc1_c[n],dpc2_c[n],dpc3_c[n])),\n",
    "              np.std((dpc_c[n],dpc1_c[n],dpc2_c[n],dpc3_c[n]))/3]\n",
    "    if n == 0:\n",
    "        dppc_control_avg = newrow\n",
    "    else:\n",
    "        dppc_control_avg = numpy.vstack([dppc_control_avg, newrow])\n",
    "    newrow = [mean((dic_c[n],dic1_c[n],dic2_c[n],dic3_c[n])),\n",
    "              np.std((dic_c[n],dic1_c[n],dic2_c[n],dic3_c[n]))/3]\n",
    "    if n == 0:\n",
    "        dipc_control_avg = newrow\n",
    "    else:\n",
    "        dipc_control_avg = numpy.vstack([dipc_control_avg, newrow])\n",
    "    newrow = [mean((chc_c[n],chc1_c[n],chc2_c[n],chc3_c[n])),\n",
    "              np.std((chc_c[n],chc1_c[n],chc2_c[n],chc3_c[n]))/3]\n",
    "    if n == 0:\n",
    "        chol_control_avg = newrow\n",
    "    else:\n",
    "        chol_control_avg = numpy.vstack([chol_control_avg, newrow])"
   ]
  },
  {
   "cell_type": "markdown",
   "metadata": {},
   "source": [
    "## Octanol Effects"
   ]
  },
  {
   "cell_type": "code",
   "execution_count": 56,
   "metadata": {},
   "outputs": [],
   "source": [
    "rolla1=35\n",
    "rolla2=5\n",
    "rolla3=12\n",
    "#get an average using np.roll\n",
    "dppc_5_avg_c=np.roll(dppc_5_avg,rolla1,axis=0)\n",
    "dipc_5_avg_c=np.roll(dipc_5_avg,rolla1,axis=0)\n",
    "chol_5_avg_c=np.roll(chol_5_avg,rolla1,axis=0)\n",
    "\n",
    "dppc_10_avg_c=np.roll(dppc_10_avg,rolla2,axis=0)\n",
    "dipc_10_avg_c=np.roll(dipc_10_avg,rolla2,axis=0)\n",
    "chol_10_avg_c=np.roll(chol_10_avg,rolla2,axis=0)\n",
    "\n",
    "dppc_control_avg_c=np.roll(dppc_control_avg,rolla3,axis=0)\n",
    "dipc_control_avg_c=np.roll(dipc_control_avg,rolla3,axis=0)\n",
    "chol_control_avg_c=np.roll(chol_control_avg,rolla3,axis=0)\n"
   ]
  },
  {
   "cell_type": "code",
   "execution_count": 57,
   "metadata": {},
   "outputs": [
    {
     "data": {
      "image/png": "[encoded data removed]",
      "text/plain": [
       "<Figure size 432x288 with 1 Axes>"
      ]
     },
     "metadata": {
      "needs_background": "light"
     },
     "output_type": "display_data"
    }
   ],
   "source": [
    "fig = plt.figure(1)\n",
    "ax = fig.add_subplot(111)\n",
    "c1='#1b9e77'\n",
    "c2='#d95f02'\n",
    "c3='#7570b3'\n",
    "me=2\n",
    "lsc='-'\n",
    "ts=15\n",
    "alp=0.25\n",
    "ax.plot(xavg,dppc_control_avg_c[:,0],color=c1,label=r'0\\%',ls=lsc)\n",
    "ax.fill_between(xavg,dppc_control_avg_c[:,0]-dppc_control_avg[:,1],\n",
    "                dppc_control_avg_c[:,0]+dppc_control_avg[:,1],alpha=alp,color=c1)\n",
    "ax.plot(xavg,dipc_control_avg_c[:,0],color=c2,ls=lsc)\n",
    "ax.fill_between(xavg,dipc_control_avg_c[:,0]-dipc_control_avg[:,1],\n",
    "                dipc_control_avg_c[:,0]+dipc_control_avg[:,1],alpha=alp,color=c2)\n",
    "ax.plot(xavg,chol_control_avg_c[:,0],color=c3,ls=lsc)\n",
    "ax.fill_between(xavg,chol_control_avg_c[:,0]-chol_control_avg[:,1],\n",
    "                chol_control_avg_c[:,0]+chol_control_avg[:,1],alpha=alp,color=c3)\n",
    "\n",
    "\n",
    "ms=4\n",
    "ax.plot(xavg,dppc_5_avg_c[:,0],color=c1,label=r'5\\%',\n",
    "        markersize=ms,markevery=me,linestyle='dashed',alpha=a,marker='d')\n",
    "ax.fill_between(xavg,dppc_5_avg_c[:,0]-dppc_5_avg_c[:,1],\n",
    "                dppc_5_avg_c[:,0]+dppc_5_avg_c[:,1],alpha=alp,color=c1)\n",
    "ax.plot(xavg,dipc_5_avg_c[:,0],color=c2,linestyle='dashed',\n",
    "        markersize=ms,markevery=me,alpha=a,marker='d')\n",
    "ax.fill_between(xavg,dipc_5_avg_c[:,0]-dipc_5_avg_c[:,1],\n",
    "                dipc_5_avg_c[:,0]+dipc_5_avg_c[:,1],alpha=alp,color=c2)\n",
    "ax.plot(xavg,chol_5_avg_c[:,0],color=c3,linestyle='dashed',\n",
    "        markersize=ms,markevery=me,alpha=a,marker='d')\n",
    "ax.fill_between(xavg,chol_5_avg_c[:,0]-chol_5_avg_c[:,1],\n",
    "                chol_5_avg_c[:,0]+chol_5_avg_c[:,1],alpha=alp,color=c3)\n",
    "\n",
    "ax.plot(xavg10,dppc_10_avg_c[:,0],color=c1,label=r'10\\%', markersize=ms,markevery=me,ls=':',marker='o',alpha=a)\n",
    "ax.plot(xavg10,dipc_10_avg_c[:,0],color=c2, ls=':',markersize=ms,marker='o',markevery=me,alpha=a)\n",
    "ax.plot(xavg10,chol_10_avg_c[:,0],color=c3, ls=':',markersize=ms,marker='o',markevery=me,alpha=a)\n",
    "ax.fill_between(xavg,dppc_10_avg_c[:,0]-dppc_10_avg_c[:,1],\n",
    "                dppc_10_avg_c[:,0]+dppc_10_avg_c[:,1],alpha=alp,color=c1)\n",
    "ax.fill_between(xavg,dipc_10_avg_c[:,0]-dipc_10_avg_c[:,1],\n",
    "                dipc_10_avg_c[:,0]+dipc_10_avg_c[:,1],alpha=alp,color=c2)\n",
    "ax.fill_between(xavg,chol_10_avg_c[:,0]-chol_10_avg_c[:,1],\n",
    "                chol_10_avg_c[:,0]+chol_10_avg_c[:,1],alpha=alp,color=c3)\n",
    "\n",
    "ax.text(3.8, 0.59, 'DPPC',color=c1,size=ts)\n",
    "ax.text(14.8, 0.65, 'DIPC',color=c2,size=ts)\n",
    "ax.text(14.8, 0.2, 'CHOL',color=c3,size=ts)\n",
    "\n",
    "a1=0.8\n",
    "\n",
    "ax.axvline(xavg[7],ls='--',color=c1,alpha=a1)\n",
    "ax.axvline(xavg[16],ls='--',color=c1,alpha=a1)\n",
    "ax.axvline(xavg[33],ls='--',color=c2,alpha=a1)\n",
    "ax.axvline(xavg[42],ls='--',color=c2,alpha=a1)\n",
    "ax.text(4.5,.95, r'L$_o$',color=c1,size=ts)\n",
    "ax.text(15.7,.95, r'L$_d$',color=c2,size=ts)\n",
    "\n",
    "ax.set_xlim(0,21)\n",
    "ax.set_xlabel('X Axis (nm)',size=ts)\n",
    "ax.set_ylabel('Normalized Number Desnity',size=ts)\n",
    "fig.savefig(file_home+'/bilayer_density_gmx.png', dpi=300, bbox_inches='tight')\n"
   ]
  },
  {
   "cell_type": "markdown",
   "metadata": {},
   "source": [
    "# Averaging and Error"
   ]
  },
  {
   "cell_type": "code",
   "execution_count": 38,
   "metadata": {},
   "outputs": [
    {
     "name": "stdout",
     "output_type": "stream",
     "text": [
      "0.8023621748111316\n",
      "0.7780525630856178\n",
      "0.8144084426169287\n"
     ]
    }
   ],
   "source": [
    "for i in dipclistld:\n",
    "    print(mean(i[:,0]))"
   ]
  },
  {
   "cell_type": "code",
   "execution_count": 60,
   "metadata": {},
   "outputs": [],
   "source": [
    "dppclistld=[dppc_control_avg_c[33:42],dppc_5_avg_c[33:42],dppc_10_avg_c[33:42]]\n",
    "dppcavgld=np.zeros((3,2))\n",
    "for n,i in enumerate(dppclistld):\n",
    "    dppcavgld[n]=(mean(i[:,0]),std(i[:,1]))\n",
    "    \n",
    "dipclistld=[dipc_control_avg_c[33:42],dipc_5_avg_c[33:42],dipc_10_avg_c[33:42]]\n",
    "dipcavgld=np.zeros((3,2))\n",
    "for n,i in enumerate(dipclistld):\n",
    "    dipcavgld[n]=(mean(i[:,0]),std(i[:,1]))\n",
    "    \n",
    "chollistld=[chol_control_avg_c[33:42],chol_5_avg_c[33:42],chol_10_avg_c[33:42]]\n",
    "cholavgld=np.zeros((3,2))\n",
    "for n,i in enumerate(chollistld):\n",
    "    cholavgld[n]=(mean(i[:,0]),std(i[:,1]))"
   ]
  },
  {
   "cell_type": "code",
   "execution_count": 61,
   "metadata": {},
   "outputs": [],
   "source": [
    "dppclistlo=[dppc_control_avg_c[7:16],dppc_5_avg_c[7:16],dppc_10_avg_c[7:16]]\n",
    "dppcavglo=np.zeros((3,2))\n",
    "for n,i in enumerate(dppclistlo):\n",
    "    dppcavglo[n]=(mean(i[:,0]),std(i[:,1]))\n",
    "\n",
    "dipclistlo=[dipc_control_avg_c[7:16],dipc_5_avg_c[7:16],dipc_10_avg_c[7:16]]\n",
    "dipcavglo=np.zeros((3,2))\n",
    "for n,i in enumerate(dipclistlo):\n",
    "    dipcavglo[n]=(mean(i[:,0]),std(i[:,1]))\n",
    "    \n",
    "chollistlo=[chol_control_avg_c[7:16],chol_5_avg_c[7:16],chol_10_avg_c[7:16]]\n",
    "cholavglo=np.zeros((3,2))\n",
    "for n,i in enumerate(chollistlo):\n",
    "    cholavglo[n]=(mean(i[:,0]),std(i[:,1]))"
   ]
  },
  {
   "cell_type": "code",
   "execution_count": 62,
   "metadata": {},
   "outputs": [
    {
     "data": {
      "text/plain": [
       "array([[8.02362175e-01, 4.55403634e-04],\n",
       "       [7.78052563e-01, 2.07080815e-03],\n",
       "       [8.14408443e-01, 1.30125896e-03]])"
      ]
     },
     "execution_count": 62,
     "metadata": {},
     "output_type": "execute_result"
    }
   ],
   "source": [
    "dipcavgld"
   ]
  },
  {
   "cell_type": "code",
   "execution_count": 63,
   "metadata": {},
   "outputs": [
    {
     "data": {
      "text/plain": [
       "array([[0.02000126, 0.00132388],\n",
       "       [0.07426547, 0.00110773],\n",
       "       [0.02277663, 0.00091762]])"
      ]
     },
     "execution_count": 63,
     "metadata": {},
     "output_type": "execute_result"
    }
   ],
   "source": [
    "dipcavglo"
   ]
  },
  {
   "cell_type": "code",
   "execution_count": 64,
   "metadata": {},
   "outputs": [
    {
     "data": {
      "text/plain": [
       "array([[0.03873014, 0.00135715],\n",
       "       [0.06398012, 0.00100391],\n",
       "       [0.04302467, 0.00058622]])"
      ]
     },
     "execution_count": 64,
     "metadata": {},
     "output_type": "execute_result"
    }
   ],
   "source": [
    "dppcavgld"
   ]
  },
  {
   "cell_type": "code",
   "execution_count": 65,
   "metadata": {},
   "outputs": [
    {
     "data": {
      "text/plain": [
       "array([[0.54216444, 0.00125473],\n",
       "       [0.49213373, 0.00113109],\n",
       "       [0.53153251, 0.00127699]])"
      ]
     },
     "execution_count": 65,
     "metadata": {},
     "output_type": "execute_result"
    }
   ],
   "source": [
    "dppcavglo"
   ]
  },
  {
   "cell_type": "code",
   "execution_count": 66,
   "metadata": {},
   "outputs": [
    {
     "data": {
      "text/plain": [
       "array([[0.15890769, 0.00050406],\n",
       "       [0.15796732, 0.00116726],\n",
       "       [0.14256689, 0.00035963]])"
      ]
     },
     "execution_count": 66,
     "metadata": {},
     "output_type": "execute_result"
    }
   ],
   "source": [
    "cholavgld"
   ]
  },
  {
   "cell_type": "code",
   "execution_count": 67,
   "metadata": {},
   "outputs": [
    {
     "data": {
      "text/plain": [
       "array([[0.43783431, 0.00143003],\n",
       "       [0.4336008 , 0.00174567],\n",
       "       [0.44569086, 0.00085711]])"
      ]
     },
     "execution_count": 67,
     "metadata": {},
     "output_type": "execute_result"
    }
   ],
   "source": [
    "cholavglo"
   ]
  },
  {
   "cell_type": "code",
   "execution_count": null,
   "metadata": {},
   "outputs": [],
   "source": []
  }
 ],
 "metadata": {
  "kernelspec": {
   "display_name": "Python 3",
   "language": "python",
   "name": "python3"
  },
  "language_info": {
   "codemirror_mode": {
    "name": "ipython",
    "version": 3
   },
   "file_extension": ".py",
   "mimetype": "text/x-python",
   "name": "python",
   "nbconvert_exporter": "python",
   "pygments_lexer": "ipython3",
   "version": "3.6.8"
  }
 },
 "nbformat": 4,
 "nbformat_minor": 2
}
