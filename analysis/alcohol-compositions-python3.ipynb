{
 "cells": [
  {
   "cell_type": "code",
   "execution_count": 2,
   "metadata": {},
   "outputs": [
    {
     "name": "stdout",
     "output_type": "stream",
     "text": [
      "Populating the interactive namespace from numpy and matplotlib\n"
     ]
    }
   ],
   "source": [
    "%pylab inline\n",
    "import numpy as np\n",
    "import matplotlib.pyplot as plt\n",
    "file_home='/Users/Vongolajames/Google Drive File Stream/My Drive/alcohol_martini_paper/pics'"
   ]
  },
  {
   "cell_type": "markdown",
   "metadata": {},
   "source": [
    "## 10% Octanol Systems"
   ]
  },
  {
   "cell_type": "code",
   "execution_count": 3,
   "metadata": {},
   "outputs": [],
   "source": [
    "p='#ff7f00'\n",
    "i='#e66101'\n",
    "c='#b2abd2'\n",
    "a='#fdb863'"
   ]
  },
  {
   "cell_type": "code",
   "execution_count": 4,
   "metadata": {},
   "outputs": [
    {
     "name": "stdout",
     "output_type": "stream",
     "text": [
      "/Users/Vongolajames/Downloads/oco2\n"
     ]
    }
   ],
   "source": [
    "cd oco2/"
   ]
  },
  {
   "cell_type": "code",
   "execution_count": 5,
   "metadata": {},
   "outputs": [],
   "source": [
    "dppc5 = np.loadtxt('og-10oco-dppc.xvg',dtype = float, skiprows=23)\n",
    "dipc5 = np.loadtxt('og-10oco-dipc.xvg',dtype = float, skiprows=23)\n",
    "chol5 = np.loadtxt('og-10oco-chol.xvg',dtype = float, skiprows=23)\n",
    "alc5 = np.loadtxt('og-10oco-alc.xvg',dtype = float, skiprows=23)\n",
    "\n",
    "dppc6 = np.loadtxt('rand1-10oco-dppc.xvg',dtype = float, skiprows=23)\n",
    "dipc6 = np.loadtxt('rand1-10oco-dipc.xvg',dtype = float, skiprows=23)\n",
    "chol6 = np.loadtxt('rand1-10oco-chol.xvg',dtype = float, skiprows=23)\n",
    "alc6 = np.loadtxt('rand-10oco-alc.xvg',dtype = float, skiprows=23)\n",
    "\n",
    "\n",
    "dppc7 = np.loadtxt('rand2-10oco-dppc.xvg',dtype = float, skiprows=23)\n",
    "dipc7 = np.loadtxt('rand2-10oco-dipc.xvg',dtype = float, skiprows=23)\n",
    "chol7 = np.loadtxt('rand2-10oco-chol.xvg',dtype = float, skiprows=23)\n",
    "alc7 = np.loadtxt('rand2-10oco-alc.xvg',dtype = float, skiprows=23)\n",
    "\n",
    "dppc8 = np.loadtxt('rand3-10oco-dppc.xvg',dtype = float, skiprows=23)\n",
    "dipc8 = np.loadtxt('rand3-10oco-dipc.xvg',dtype = float, skiprows=23)\n",
    "chol8 = np.loadtxt('rand3-10oco-chol.xvg',dtype = float, skiprows=23)\n",
    "alc8 = np.loadtxt('rand3-10oco-alc.xvg',dtype = float, skiprows=23)\n",
    "\n",
    "\n",
    "dppc9 = np.loadtxt('rand4-10oco-dppc.xvg',dtype = float, skiprows=23)\n",
    "dipc9 = np.loadtxt('rand4-10oco-dipc.xvg',dtype = float, skiprows=23)\n",
    "chol9 = np.loadtxt('rand4-10oco-chol.xvg',dtype = float, skiprows=23)\n",
    "alc9 = np.loadtxt('rand4-10oco-alc.xvg',dtype = float, skiprows=23)\n"
   ]
  },
  {
   "cell_type": "code",
   "execution_count": 6,
   "metadata": {},
   "outputs": [],
   "source": [
    "bla5=np.column_stack((dppc5[:,1],dipc5[:,1],chol5[:,1],alc5[:,1]))\n",
    "bla5[:,0]=bla5[:,0]/12\n",
    "bla5[:,1]=bla5[:,1]/12\n",
    "bla5[:,2]=bla5[:,2]/8\n",
    "bla5[:,3]=bla5[:,3]/2\n",
    "\n",
    "bla6=np.column_stack((dppc6[:,1],dipc6[:,1],chol6[:,1],alc6[:,1]))\n",
    "bla6[:,0]=bla6[:,0]/12\n",
    "bla6[:,1]=bla6[:,1]/12\n",
    "bla6[:,2]=bla6[:,2]/8\n",
    "bla6[:,3]=bla6[:,3]/2\n",
    "\n",
    "bla7=np.column_stack((dppc7[:,1],dipc7[:,1],chol7[:,1],alc7[:,1]))\n",
    "bla7[:,0]=bla7[:,0]/12\n",
    "bla7[:,1]=bla7[:,1]/12\n",
    "bla7[:,2]=bla7[:,2]/8\n",
    "bla7[:,3]=bla7[:,3]/2\n",
    "\n",
    "bla8=np.column_stack((dppc8[:,1],dipc8[:,1],chol8[:,1],alc8[:,1]))\n",
    "bla8[:,0]=bla8[:,0]/12\n",
    "bla8[:,1]=bla8[:,1]/12\n",
    "bla8[:,2]=bla8[:,2]/8\n",
    "bla8[:,3]=bla8[:,3]/2\n",
    "\n",
    "bla9=np.column_stack((dppc9[:,1],dipc9[:,1],chol9[:,1],alc9[:,1]))\n",
    "bla9[:,0]=bla9[:,0]/12\n",
    "bla9[:,1]=bla9[:,1]/12\n",
    "bla9[:,2]=bla9[:,2]/8\n",
    "bla9[:,3]=bla9[:,3]/2\n",
    "\n",
    "\n",
    "alc5[:,1]=bla5[:,3].astype(float)/bla5.sum(axis=1)\n",
    "dppc5[:,1]=bla5[:,0].astype(float)/bla5.sum(axis=1)\n",
    "dipc5[:,1]=bla5[:,1].astype(float)/bla5.sum(axis=1)\n",
    "chol5[:,1]=bla5[:,2].astype(float)/bla5.sum(axis=1)\n",
    "\n",
    "alc6[:,1]=bla6[:,3].astype(float)/bla6.sum(axis=1)\n",
    "dppc6[:,1]=bla6[:,0].astype(float)/bla6.sum(axis=1)\n",
    "dipc6[:,1]=bla6[:,1].astype(float)/bla6.sum(axis=1)\n",
    "chol6[:,1]=bla6[:,2].astype(float)/bla6.sum(axis=1)\n",
    "\n",
    "alc7[:,1]=bla7[:,3].astype(float)/bla8.sum(axis=1)\n",
    "dppc7[:,1]=bla7[:,0].astype(float)/bla7.sum(axis=1)\n",
    "dipc7[:,1]=bla7[:,1].astype(float)/bla7.sum(axis=1)\n",
    "chol7[:,1]=bla7[:,2].astype(float)/bla7.sum(axis=1)\n",
    "\n",
    "dppc8[:,1]=bla8[:,0].astype(float)/bla8.sum(axis=1)\n",
    "dipc8[:,1]=bla8[:,1].astype(float)/bla8.sum(axis=1)\n",
    "chol8[:,1]=bla8[:,2].astype(float)/bla8.sum(axis=1)\n",
    "alc8[:,1]=bla8[:,3].astype(float)/bla8.sum(axis=1)\n",
    "\n",
    "alc9[:,1]=bla9[:,3].astype(float)/bla9.sum(axis=1)\n",
    "dppc9[:,1]=bla9[:,0].astype(float)/bla9.sum(axis=1)\n",
    "dipc9[:,1]=bla9[:,1].astype(float)/bla9.sum(axis=1)\n",
    "chol9[:,1]=bla9[:,2].astype(float)/bla9.sum(axis=1)"
   ]
  },
  {
   "cell_type": "code",
   "execution_count": 7,
   "metadata": {},
   "outputs": [],
   "source": [
    "a=0.4\n",
    "roll5=-1\n",
    "roll6=9\n",
    "roll7=15\n",
    "roll8=27\n",
    "roll9=27"
   ]
  },
  {
   "cell_type": "code",
   "execution_count": 10,
   "metadata": {},
   "outputs": [],
   "source": [
    "#get an average using np.roll\n",
    "dppc5_c=np.roll(dppc5[:,1],roll5)\n",
    "dipc5_c=np.roll(dipc5[:,1],roll5)\n",
    "chol5_c=np.roll(chol5[:,1],roll5)\n",
    "alc5_c=np.roll(alc5[:,1],roll5)\n",
    "\n",
    "dppc6_c=np.roll(dppc6[:,1],roll6)\n",
    "dipc6_c=np.roll(dipc6[:,1],roll6)\n",
    "chol6_c=np.roll(chol6[:,1],roll6)\n",
    "alc6_c=np.roll(alc6[:,1],roll6)\n",
    "\n",
    "dppc7_c=np.roll(dppc7[:,1],roll7)\n",
    "dipc7_c=np.roll(dipc7[:,1],roll7)\n",
    "chol7_c=np.roll(chol7[:,1],roll7)\n",
    "alc7_c=np.roll(alc7[:,1],roll7)\n",
    "\n",
    "dppc8_c=np.roll(dppc8[:,1],roll8)\n",
    "dipc8_c=np.roll(dipc8[:,1],roll8)\n",
    "chol8_c=np.roll(chol8[:,1],roll8)\n",
    "alc8_c=np.roll(alc8[:,1],roll8)\n",
    "    \n",
    "dppc9_c=np.roll(dppc9[:,1],roll9)\n",
    "dipc9_c=np.roll(dipc9[:,1],roll9)\n",
    "chol9_c=np.roll(chol9[:,1],roll9)\n",
    "alc9_c=np.roll(alc9[:,1],roll9)\n",
    "\n",
    "#average x axis to be shared\n",
    "xavg10=(dppc5[:,0]+dipc5[:,0]+chol5[:,0]+dipc6[:,0]+dppc6[:,0]+chol6[:,0]\n",
    "     +alc5[:,0]+alc6[:,0]+dipc7[:,0]+dppc7[:,0]+chol7[:,0]+alc7[:,0])/12.0\n",
    "#average together the three runs!\n",
    "\n",
    "alc_10_avg=[[]]\n",
    "for n,i in enumerate(dppc9_c):\n",
    "    newrow = [mean((alc5_c[n],alc6_c[n],alc7_c[n],alc8_c[n],alc9_c[n])),\n",
    "              np.std((alc5_c[n],alc6_c[n],alc7_c[n],alc8_c[n],alc9_c[n]))]\n",
    "    if n == 0:\n",
    "        alc_10_avg = newrow\n",
    "    else:\n",
    "        alc_10_avg = numpy.vstack([alc_10_avg, newrow])"
   ]
  },
  {
   "cell_type": "markdown",
   "metadata": {},
   "source": [
    "## 5% Octanol Systems"
   ]
  },
  {
   "cell_type": "code",
   "execution_count": 12,
   "metadata": {},
   "outputs": [
    {
     "name": "stdout",
     "output_type": "stream",
     "text": [
      "/Users/Vongolajames/Downloads/check\n"
     ]
    }
   ],
   "source": [
    "cd ../check/"
   ]
  },
  {
   "cell_type": "code",
   "execution_count": 13,
   "metadata": {},
   "outputs": [],
   "source": [
    "dppc_1 = np.loadtxt('og-5oco-dppc-redo.xvg',dtype = float, skiprows=23)\n",
    "dipc_1 = np.loadtxt('og-5oco-dipc-redo.xvg',dtype = float, skiprows=23)\n",
    "chol_1 = np.loadtxt('og-5oco-chol-redo.xvg',dtype = float, skiprows=23)\n",
    "alc_1= np.loadtxt('og-5oco-alc-redo.xvg',dtype = float, skiprows=23)\n",
    "\n",
    "dppc2 = np.loadtxt('rand2-5oco-dppc.xvg',dtype = float, skiprows=23)\n",
    "dipc2 = np.loadtxt('rand2-5oco-dipc.xvg',dtype = float, skiprows=23)\n",
    "chol2 = np.loadtxt('rand2-5oco-chol.xvg',dtype = float, skiprows=23)\n",
    "alc2 = np.loadtxt('rand2-5oco-alc.xvg',dtype = float, skiprows=23)\n",
    "\n",
    "dppc4 = np.loadtxt('rand4-5oco-dppc-redo.xvg',dtype = float, skiprows=23)\n",
    "dipc4 = np.loadtxt('rand4-5oco-dipc-redo.xvg',dtype = float, skiprows=23)\n",
    "chol4 = np.loadtxt('rand4-5oco-chol-redo.xvg',dtype = float, skiprows=23)\n",
    "alc4 = np.loadtxt('rand4-5oco-alc-redo.xvg',dtype = float, skiprows=23)\n"
   ]
  },
  {
   "cell_type": "code",
   "execution_count": 14,
   "metadata": {},
   "outputs": [],
   "source": [
    "bla_1=np.column_stack((dppc_1[:,1],dipc_1[:,1],chol_1[:,1],alc_1[:,1]))\n",
    "bla2=np.column_stack((dppc2[:,1],dipc2[:,1],chol2[:,1],alc2[:,1]))\n",
    "bla4=np.column_stack((dppc4[:,1],dipc4[:,1],chol4[:,1],alc4[:,1]))\n",
    "\n",
    "bla_1[:,0]=bla_1[:,0]/12\n",
    "bla_1[:,1]=bla_1[:,1]/12\n",
    "bla_1[:,2]=bla_1[:,2]/8\n",
    "bla_1[:,3]=bla_1[:,3]/2\n",
    "\n",
    "bla2[:,0]=bla2[:,0]/12\n",
    "bla2[:,1]=bla2[:,1]/12\n",
    "bla2[:,2]=bla2[:,2]/8\n",
    "bla2[:,3]=bla2[:,3]/2\n",
    "\n",
    "bla4[:,0]=bla4[:,0]/12\n",
    "bla4[:,1]=bla4[:,1]/12\n",
    "bla4[:,2]=bla4[:,2]/8\n",
    "bla4[:,3]=bla4[:,3]/2\n"
   ]
  },
  {
   "cell_type": "code",
   "execution_count": 15,
   "metadata": {},
   "outputs": [],
   "source": [
    "alc_1[:,1]=bla_1[:,3].astype(float)/bla_1.sum(axis=1)\n",
    "alc2[:,1]=bla2[:,3].astype(float)/bla2.sum(axis=1)\n",
    "alc4[:,1]=bla4[:,3].astype(float)/bla4.sum(axis=1)"
   ]
  },
  {
   "cell_type": "code",
   "execution_count": 16,
   "metadata": {},
   "outputs": [],
   "source": [
    "a=0.4\n",
    "roll1=-7\n",
    "roll2=-1\n",
    "roll3=10"
   ]
  },
  {
   "cell_type": "code",
   "execution_count": 17,
   "metadata": {},
   "outputs": [],
   "source": [
    "#get an average using np.roll\n",
    "dppc2_c=np.roll(dppc2[:,1],roll2)\n",
    "dipc2_c=np.roll(dipc2[:,1],roll2)\n",
    "chol2_c=np.roll(chol2[:,1],roll2)\n",
    "alc2_c=np.roll(alc2[:,1],roll2)\n",
    "\n",
    "dppc_1_c=np.roll(dppc_1[:,1],roll1)\n",
    "dipc_1_c=np.roll(dipc_1[:,1],roll1)\n",
    "chol_1_c=np.roll(chol_1[:,1],roll1)\n",
    "alc_1_c=np.roll(alc_1[:,1],roll1)\n",
    "\n",
    "dppc3_c=np.roll(dppc4[:,1],roll3)\n",
    "dipc3_c=np.roll(dipc4[:,1],roll3)\n",
    "chol3_c=np.roll(chol4[:,1],roll3)\n",
    "alc3_c=np.roll(alc4[:,1],roll3)\n",
    "\n",
    "#average x axis to be shared\n",
    "xavg=(dppc_1[:,0]+dipc_1[:,0]+chol_1[:,0]+dipc2[:,0]+dppc2[:,0]+chol2[:,0]\n",
    "     +alc_1[:,0]+alc2[:,0]+dipc4[:,0]+dppc4[:,0]+chol4[:,0]+alc4[:,0])/12.0\n",
    "#average together the three runs!\n",
    "alc_5_avg=[[]]\n",
    "for n,i in enumerate(dppc5_c):\n",
    "    newrow = [mean((alc2_c[n],alc_1_c[n],alc3_c[n])),\n",
    "              np.std((alc2_c[n],alc_1_c[n],alc3_c[n]))]\n",
    "    if n == 0:\n",
    "        alc_5_avg = newrow\n",
    "    else:\n",
    "        alc_5_avg = numpy.vstack([alc_5_avg, newrow])\n",
    "    "
   ]
  },
  {
   "cell_type": "markdown",
   "metadata": {},
   "source": [
    "## Octanol Effects"
   ]
  },
  {
   "cell_type": "code",
   "execution_count": 18,
   "metadata": {},
   "outputs": [],
   "source": [
    "rolla1=35\n",
    "rolla2=5"
   ]
  },
  {
   "cell_type": "code",
   "execution_count": 37,
   "metadata": {},
   "outputs": [],
   "source": [
    "#get an average using np.roll\n",
    "alc_5_avg_c=np.roll(alc_5_avg,rolla1,axis=0)\n",
    "alc_10_avg_c=np.roll(alc_10_avg,rolla2,axis=0)"
   ]
  },
  {
   "cell_type": "code",
   "execution_count": 74,
   "metadata": {},
   "outputs": [
    {
     "data": {
      "image/png": "[encoded data removed]",
      "text/plain": [
       "<Figure size 432x288 with 1 Axes>"
      ]
     },
     "metadata": {
      "needs_background": "light"
     },
     "output_type": "display_data"
    }
   ],
   "source": [
    "fig = plt.figure(1)\n",
    "ax = fig.add_subplot(111)\n",
    "c1='#1b9e77'\n",
    "c2='#d95f02'\n",
    "c3='#7570b3'\n",
    "c4='#d8b365'\n",
    "c5='#5ab4ac'\n",
    "me=2\n",
    "lsc='--'\n",
    "a=0.7\n",
    "ts=15\n",
    "\n",
    "\n",
    "ax.plot(xavg10,alc_5_avg_c[:,0],markevery=me, ls='--',\n",
    "        marker='d',label=r'5% Octanol',alpha=a,color=c3)\n",
    "ax.fill_between(xavg10,alc_5_avg_c[:,0]-alc_5_avg_c[:,1],\n",
    "                alc_5_avg_c[:,0]+alc_5_avg_c[:,1],alpha=0.35,color=c3)\n",
    "ax.plot(xavg10,alc_10_avg_c[:,0], markevery=me, ls='--',\n",
    "        marker='o',label=r'10% Octanol',alpha=a,color=c3)\n",
    "ax.fill_between(xavg10,alc_10_avg_c[:,0]-alc_10_avg_c[:,1],\n",
    "                alc_10_avg_c[:,0]+alc_10_avg_c[:,1],alpha=0.35,color=c3)\n",
    "\n",
    "a1=0.8\n",
    "\n",
    "ax.axvline(xavg[7],ls='--',color=c1,alpha=a1)\n",
    "ax.axvline(xavg[16],ls='--',color=c1,alpha=a1)\n",
    "ax.axvline(xavg[33],ls='--',color=c2,alpha=a1)\n",
    "ax.axvline(xavg[42],ls='--',color=c2,alpha=a1)\n",
    "ax.text(4.5,0.175, r'L$_o$',color=c1,size=ts)\n",
    "ax.text(15.7,0.175, r'L$_d$',color=c2,size=ts)\n",
    "\n",
    "ax.set_xlim(0,21)\n",
    "ax.legend(loc='best',bbox_to_anchor=(0.63,0.33))\n",
    "ax.set_xlabel('X Axis (nm)',size=ts)\n",
    "#plt.title('Density Profiles of Octanol')\n",
    "ax.set_ylabel('')\n",
    "fig.savefig(file_home+'/octanol-only_real.png', dpi=300, bbox_inches='tight')\n",
    "\n"
   ]
  },
  {
   "cell_type": "code",
   "execution_count": 60,
   "metadata": {},
   "outputs": [],
   "source": [
    "alcavgld=[]\n",
    "alcavgld.append(mean(alc_5_avg_c[33:42][:,0]))\n",
    "alcavgld.append(mean(alc_10_avg_c[33:42][:,0]))"
   ]
  },
  {
   "cell_type": "code",
   "execution_count": 61,
   "metadata": {},
   "outputs": [],
   "source": [
    "alcavglo=[]\n",
    "alcavglo.append(np.mean(alc_5_avg_c[7:16][:,0]))\n",
    "alcavglo.append(np.mean(alc_10_avg_c[7:16][:,0]))"
   ]
  },
  {
   "cell_type": "code",
   "execution_count": 64,
   "metadata": {},
   "outputs": [
    {
     "data": {
      "text/plain": [
       "3.6410428260965557"
      ]
     },
     "execution_count": 64,
     "metadata": {},
     "output_type": "execute_result"
    }
   ],
   "source": [
    "alcavgld[0]/alcavglo[0]"
   ]
  },
  {
   "cell_type": "code",
   "execution_count": 65,
   "metadata": {},
   "outputs": [
    {
     "data": {
      "text/plain": [
       "2.936018743735581"
      ]
     },
     "execution_count": 65,
     "metadata": {},
     "output_type": "execute_result"
    }
   ],
   "source": [
    "alcavgld[1]/alcavglo[1]"
   ]
  }
 ],
 "metadata": {
  "kernelspec": {
   "display_name": "Python 3",
   "language": "python",
   "name": "python3"
  },
  "language_info": {
   "codemirror_mode": {
    "name": "ipython",
    "version": 3
   },
   "file_extension": ".py",
   "mimetype": "text/x-python",
   "name": "python",
   "nbconvert_exporter": "python",
   "pygments_lexer": "ipython3",
   "version": "3.6.8"
  }
 },
 "nbformat": 4,
 "nbformat_minor": 2
}
